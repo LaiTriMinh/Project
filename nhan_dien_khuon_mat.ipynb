{
  "nbformat": 4,
  "nbformat_minor": 0,
  "metadata": {
    "colab": {
      "provenance": [],
      "collapsed_sections": [],
      "mount_file_id": "1T4bAFQZ6jramSW9T87Z4iuCjNzj0wmDv",
      "authorship_tag": "ABX9TyMSS0SeGsLFMdcQcBoevs/K",
      "include_colab_link": true
    },
    "kernelspec": {
      "name": "python3",
      "display_name": "Python 3"
    },
    "language_info": {
      "name": "python"
    },
    "accelerator": "GPU",
    "gpuClass": "standard"
  },
  "cells": [
    {
      "cell_type": "markdown",
      "metadata": {
        "id": "view-in-github",
        "colab_type": "text"
      },
      "source": [
        "<a href=\"https://colab.research.google.com/github/LaiTriMinh/project/blob/main/nhan_dien_khuon_mat.ipynb\" target=\"_parent\"><img src=\"https://colab.research.google.com/assets/colab-badge.svg\" alt=\"Open In Colab\"/></a>"
      ]
    },
    {
      "cell_type": "code",
      "execution_count": 1,
      "metadata": {
        "id": "S4PK0S5wdYSJ"
      },
      "outputs": [],
      "source": [
        "from sklearn.model_selection import train_test_split\n",
        "import matplotlib.pyplot as plt\n",
        "import numpy as np\n",
        "from keras.utils import np_utils\n",
        "from keras.models import Sequential\n",
        "from keras.layers import Dense, Activation, Dropout, Conv2D, MaxPooling2D, Flatten\n",
        "from keras.callbacks import EarlyStopping, ModelCheckpoint\n",
        "from sklearn.utils import validation \n",
        "from sklearn import preprocessing\n",
        "from keras.utils import to_categorical\n",
        "from keras.models import load_model\n",
        "from keras.utils import load_img, img_to_array\n",
        "from keras.preprocessing.image import ImageDataGenerator"
      ]
    },
    {
      "cell_type": "code",
      "source": [
        "%cd /content/drive/MyDrive/khuon mat"
      ],
      "metadata": {
        "colab": {
          "base_uri": "https://localhost:8080/"
        },
        "id": "Bhr49FeSiLXP",
        "outputId": "173100d2-7d26-48d8-9e19-2561a90f1fd9"
      },
      "execution_count": 2,
      "outputs": [
        {
          "output_type": "stream",
          "name": "stdout",
          "text": [
            "/content/drive/MyDrive/khuon mat\n"
          ]
        }
      ]
    },
    {
      "cell_type": "code",
      "source": [
        "train_datagen=ImageDataGenerator(rescale=1./255, shear_range=0.2, zoom_range=0.2, horizontal_flip=True)\n",
        "training_set=train_datagen.flow_from_directory('/content/drive/MyDrive/khuon mat/train',target_size=(150,150), batch_size=32, class_mode='categorical')\n",
        "test_set = train_datagen.flow_from_directory('/content/drive/MyDrive/khuon mat/test',target_size=(150,150), batch_size=32, class_mode='categorical')\n"
      ],
      "metadata": {
        "colab": {
          "base_uri": "https://localhost:8080/"
        },
        "id": "VwoL_KJPiYmV",
        "outputId": "1df912ab-6124-48d8-ce6c-46653b8b9711"
      },
      "execution_count": 3,
      "outputs": [
        {
          "output_type": "stream",
          "name": "stdout",
          "text": [
            "Found 180 images belonging to 3 classes.\n",
            "Found 180 images belonging to 3 classes.\n"
          ]
        }
      ]
    },
    {
      "cell_type": "code",
      "source": [
        "training_set.class_indices\n",
        "test_set.class_indices"
      ],
      "metadata": {
        "colab": {
          "base_uri": "https://localhost:8080/"
        },
        "id": "9yTAZjvUjfH2",
        "outputId": "895d7cbe-d079-4533-bad9-2890270d5f6e"
      },
      "execution_count": 4,
      "outputs": [
        {
          "output_type": "execute_result",
          "data": {
            "text/plain": [
              "{'Dương Duy Thoại': 0, 'Hùng Minh Trần Định': 1, 'Lại Trí Minh': 2}"
            ]
          },
          "metadata": {},
          "execution_count": 4
        }
      ]
    },
    {
      "cell_type": "code",
      "source": [
        "model=Sequential()\n",
        "\n",
        "model.add(Conv2D(32,(3,3), activation='relu', kernel_initializer='he_uniform', padding='same',input_shape=(150,150,3))) \n",
        "model.add(Conv2D(32,(3,3), activation='relu', kernel_initializer='he_uniform', padding='same'))\n",
        "model.add(MaxPooling2D(2,2))\n",
        "model.add(Conv2D(64,(3,3), activation='relu', kernel_initializer='he_uniform', padding='same',input_shape=(150,150,3))) \n",
        "model.add(Conv2D(64,(3,3), activation='relu', kernel_initializer='he_uniform', padding='same'))\n",
        "model.add(MaxPooling2D(2,2))\n",
        "model.add(Conv2D(128,(3,3), activation='relu', kernel_initializer='he_uniform', padding='same',input_shape=(150,150,3))) \n",
        "model.add(Conv2D(128,(3,3), activation='relu', kernel_initializer='he_uniform', padding='same'))\n",
        "model.add(MaxPooling2D(2,2))\n",
        "model.add(Flatten())\n",
        "model.add(Dense(128,activation='relu',kernel_initializer='he_uniform'))\n",
        "model.add(Dropout(0.2))\n",
        "model.add(Dense(3,activation='softmax'))\n",
        "model.summary()"
      ],
      "metadata": {
        "colab": {
          "base_uri": "https://localhost:8080/"
        },
        "id": "PwmUSbSkjioM",
        "outputId": "b8eb2267-9cc0-494e-92a9-0b26bb1e8339"
      },
      "execution_count": 5,
      "outputs": [
        {
          "output_type": "stream",
          "name": "stdout",
          "text": [
            "Model: \"sequential\"\n",
            "_________________________________________________________________\n",
            " Layer (type)                Output Shape              Param #   \n",
            "=================================================================\n",
            " conv2d (Conv2D)             (None, 150, 150, 32)      896       \n",
            "                                                                 \n",
            " conv2d_1 (Conv2D)           (None, 150, 150, 32)      9248      \n",
            "                                                                 \n",
            " max_pooling2d (MaxPooling2D  (None, 75, 75, 32)       0         \n",
            " )                                                               \n",
            "                                                                 \n",
            " conv2d_2 (Conv2D)           (None, 75, 75, 64)        18496     \n",
            "                                                                 \n",
            " conv2d_3 (Conv2D)           (None, 75, 75, 64)        36928     \n",
            "                                                                 \n",
            " max_pooling2d_1 (MaxPooling  (None, 37, 37, 64)       0         \n",
            " 2D)                                                             \n",
            "                                                                 \n",
            " conv2d_4 (Conv2D)           (None, 37, 37, 128)       73856     \n",
            "                                                                 \n",
            " conv2d_5 (Conv2D)           (None, 37, 37, 128)       147584    \n",
            "                                                                 \n",
            " max_pooling2d_2 (MaxPooling  (None, 18, 18, 128)      0         \n",
            " 2D)                                                             \n",
            "                                                                 \n",
            " flatten (Flatten)           (None, 41472)             0         \n",
            "                                                                 \n",
            " dense (Dense)               (None, 128)               5308544   \n",
            "                                                                 \n",
            " dropout (Dropout)           (None, 128)               0         \n",
            "                                                                 \n",
            " dense_1 (Dense)             (None, 3)                 387       \n",
            "                                                                 \n",
            "=================================================================\n",
            "Total params: 5,595,939\n",
            "Trainable params: 5,595,939\n",
            "Non-trainable params: 0\n",
            "_________________________________________________________________\n"
          ]
        }
      ]
    },
    {
      "cell_type": "code",
      "source": [
        "model.compile(optimizer='adam',loss='categorical_crossentropy',metrics=['accuracy'])\n",
        "model.fit(training_set,epochs=100,batch_size=100,verbose=1)"
      ],
      "metadata": {
        "colab": {
          "base_uri": "https://localhost:8080/"
        },
        "id": "88uTUL30jsVc",
        "outputId": "1ad1f031-f1cf-478c-ad0a-9bc9b64fe6bb"
      },
      "execution_count": 6,
      "outputs": [
        {
          "output_type": "stream",
          "name": "stdout",
          "text": [
            "Epoch 1/100\n",
            "6/6 [==============================] - 105s 15s/step - loss: 6.6587 - accuracy: 0.3444\n",
            "Epoch 2/100\n",
            "6/6 [==============================] - 4s 712ms/step - loss: 1.2101 - accuracy: 0.3111\n",
            "Epoch 3/100\n",
            "6/6 [==============================] - 4s 719ms/step - loss: 1.0606 - accuracy: 0.4500\n",
            "Epoch 4/100\n",
            "6/6 [==============================] - 4s 741ms/step - loss: 0.9328 - accuracy: 0.5833\n",
            "Epoch 5/100\n",
            "6/6 [==============================] - 4s 710ms/step - loss: 0.8629 - accuracy: 0.6278\n",
            "Epoch 6/100\n",
            "6/6 [==============================] - 4s 686ms/step - loss: 0.8201 - accuracy: 0.6056\n",
            "Epoch 7/100\n",
            "6/6 [==============================] - 4s 661ms/step - loss: 0.7666 - accuracy: 0.6278\n",
            "Epoch 8/100\n",
            "6/6 [==============================] - 4s 648ms/step - loss: 0.6916 - accuracy: 0.6778\n",
            "Epoch 9/100\n",
            "6/6 [==============================] - 4s 710ms/step - loss: 0.6362 - accuracy: 0.7389\n",
            "Epoch 10/100\n",
            "6/6 [==============================] - 4s 724ms/step - loss: 0.5448 - accuracy: 0.7611\n",
            "Epoch 11/100\n",
            "6/6 [==============================] - 4s 685ms/step - loss: 0.4528 - accuracy: 0.8056\n",
            "Epoch 12/100\n",
            "6/6 [==============================] - 4s 704ms/step - loss: 0.3976 - accuracy: 0.8389\n",
            "Epoch 13/100\n",
            "6/6 [==============================] - 4s 634ms/step - loss: 0.3828 - accuracy: 0.8333\n",
            "Epoch 14/100\n",
            "6/6 [==============================] - 4s 610ms/step - loss: 0.4006 - accuracy: 0.8611\n",
            "Epoch 15/100\n",
            "6/6 [==============================] - 4s 694ms/step - loss: 0.3888 - accuracy: 0.8556\n",
            "Epoch 16/100\n",
            "6/6 [==============================] - 4s 636ms/step - loss: 0.4311 - accuracy: 0.8000\n",
            "Epoch 17/100\n",
            "6/6 [==============================] - 4s 697ms/step - loss: 0.4288 - accuracy: 0.8389\n",
            "Epoch 18/100\n",
            "6/6 [==============================] - 4s 725ms/step - loss: 0.3570 - accuracy: 0.8778\n",
            "Epoch 19/100\n",
            "6/6 [==============================] - 4s 691ms/step - loss: 0.3030 - accuracy: 0.8889\n",
            "Epoch 20/100\n",
            "6/6 [==============================] - 4s 698ms/step - loss: 0.2766 - accuracy: 0.8944\n",
            "Epoch 21/100\n",
            "6/6 [==============================] - 4s 694ms/step - loss: 0.2644 - accuracy: 0.8833\n",
            "Epoch 22/100\n",
            "6/6 [==============================] - 4s 643ms/step - loss: 0.2679 - accuracy: 0.9222\n",
            "Epoch 23/100\n",
            "6/6 [==============================] - 4s 669ms/step - loss: 0.3270 - accuracy: 0.8722\n",
            "Epoch 24/100\n",
            "6/6 [==============================] - 4s 735ms/step - loss: 0.2789 - accuracy: 0.8944\n",
            "Epoch 25/100\n",
            "6/6 [==============================] - 4s 654ms/step - loss: 0.1608 - accuracy: 0.9333\n",
            "Epoch 26/100\n",
            "6/6 [==============================] - 4s 648ms/step - loss: 0.1908 - accuracy: 0.9333\n",
            "Epoch 27/100\n",
            "6/6 [==============================] - 4s 708ms/step - loss: 0.1690 - accuracy: 0.9333\n",
            "Epoch 28/100\n",
            "6/6 [==============================] - 4s 745ms/step - loss: 0.1498 - accuracy: 0.9500\n",
            "Epoch 29/100\n",
            "6/6 [==============================] - 4s 665ms/step - loss: 0.1658 - accuracy: 0.9500\n",
            "Epoch 30/100\n",
            "6/6 [==============================] - 4s 710ms/step - loss: 0.2033 - accuracy: 0.9444\n",
            "Epoch 31/100\n",
            "6/6 [==============================] - 4s 708ms/step - loss: 0.1598 - accuracy: 0.9222\n",
            "Epoch 32/100\n",
            "6/6 [==============================] - 4s 695ms/step - loss: 0.1726 - accuracy: 0.9278\n",
            "Epoch 33/100\n",
            "6/6 [==============================] - 4s 743ms/step - loss: 0.1134 - accuracy: 0.9722\n",
            "Epoch 34/100\n",
            "6/6 [==============================] - 4s 657ms/step - loss: 0.1452 - accuracy: 0.9333\n",
            "Epoch 35/100\n",
            "6/6 [==============================] - 4s 616ms/step - loss: 0.2029 - accuracy: 0.9222\n",
            "Epoch 36/100\n",
            "6/6 [==============================] - 4s 595ms/step - loss: 0.1395 - accuracy: 0.9667\n",
            "Epoch 37/100\n",
            "6/6 [==============================] - 4s 676ms/step - loss: 0.1000 - accuracy: 0.9667\n",
            "Epoch 38/100\n",
            "6/6 [==============================] - 4s 720ms/step - loss: 0.0936 - accuracy: 0.9722\n",
            "Epoch 39/100\n",
            "6/6 [==============================] - 4s 697ms/step - loss: 0.0520 - accuracy: 0.9833\n",
            "Epoch 40/100\n",
            "6/6 [==============================] - 4s 651ms/step - loss: 0.0601 - accuracy: 0.9722\n",
            "Epoch 41/100\n",
            "6/6 [==============================] - 4s 695ms/step - loss: 0.0745 - accuracy: 0.9722\n",
            "Epoch 42/100\n",
            "6/6 [==============================] - 4s 692ms/step - loss: 0.0644 - accuracy: 0.9833\n",
            "Epoch 43/100\n",
            "6/6 [==============================] - 4s 682ms/step - loss: 0.0682 - accuracy: 0.9667\n",
            "Epoch 44/100\n",
            "6/6 [==============================] - 4s 723ms/step - loss: 0.1004 - accuracy: 0.9556\n",
            "Epoch 45/100\n",
            "6/6 [==============================] - 4s 728ms/step - loss: 0.1403 - accuracy: 0.9444\n",
            "Epoch 46/100\n",
            "6/6 [==============================] - 4s 682ms/step - loss: 0.1270 - accuracy: 0.9500\n",
            "Epoch 47/100\n",
            "6/6 [==============================] - 4s 749ms/step - loss: 0.1224 - accuracy: 0.9500\n",
            "Epoch 48/100\n",
            "6/6 [==============================] - 4s 646ms/step - loss: 0.0775 - accuracy: 0.9722\n",
            "Epoch 49/100\n",
            "6/6 [==============================] - 4s 623ms/step - loss: 0.1134 - accuracy: 0.9611\n",
            "Epoch 50/100\n",
            "6/6 [==============================] - 4s 667ms/step - loss: 0.0386 - accuracy: 0.9889\n",
            "Epoch 51/100\n",
            "6/6 [==============================] - 4s 693ms/step - loss: 0.1116 - accuracy: 0.9667\n",
            "Epoch 52/100\n",
            "6/6 [==============================] - 4s 724ms/step - loss: 0.0846 - accuracy: 0.9556\n",
            "Epoch 53/100\n",
            "6/6 [==============================] - 4s 692ms/step - loss: 0.0764 - accuracy: 0.9722\n",
            "Epoch 54/100\n",
            "6/6 [==============================] - 4s 723ms/step - loss: 0.0873 - accuracy: 0.9778\n",
            "Epoch 55/100\n",
            "6/6 [==============================] - 4s 753ms/step - loss: 0.0498 - accuracy: 0.9833\n",
            "Epoch 56/100\n",
            "6/6 [==============================] - 4s 642ms/step - loss: 0.0122 - accuracy: 1.0000\n",
            "Epoch 57/100\n",
            "6/6 [==============================] - 4s 701ms/step - loss: 0.0943 - accuracy: 0.9556\n",
            "Epoch 58/100\n",
            "6/6 [==============================] - 4s 724ms/step - loss: 0.1718 - accuracy: 0.9500\n",
            "Epoch 59/100\n",
            "6/6 [==============================] - 4s 641ms/step - loss: 0.1062 - accuracy: 0.9444\n",
            "Epoch 60/100\n",
            "6/6 [==============================] - 4s 655ms/step - loss: 0.1660 - accuracy: 0.9722\n",
            "Epoch 61/100\n",
            "6/6 [==============================] - 4s 673ms/step - loss: 0.2945 - accuracy: 0.9111\n",
            "Epoch 62/100\n",
            "6/6 [==============================] - 4s 700ms/step - loss: 0.1113 - accuracy: 0.9556\n",
            "Epoch 63/100\n",
            "6/6 [==============================] - 4s 713ms/step - loss: 0.0548 - accuracy: 0.9889\n",
            "Epoch 64/100\n",
            "6/6 [==============================] - 4s 676ms/step - loss: 0.1420 - accuracy: 0.9611\n",
            "Epoch 65/100\n",
            "6/6 [==============================] - 4s 719ms/step - loss: 0.0681 - accuracy: 0.9722\n",
            "Epoch 66/100\n",
            "6/6 [==============================] - 4s 707ms/step - loss: 0.1547 - accuracy: 0.9389\n",
            "Epoch 67/100\n",
            "6/6 [==============================] - 4s 745ms/step - loss: 0.1297 - accuracy: 0.9556\n",
            "Epoch 68/100\n",
            "6/6 [==============================] - 4s 746ms/step - loss: 0.0822 - accuracy: 0.9667\n",
            "Epoch 69/100\n",
            "6/6 [==============================] - 4s 686ms/step - loss: 0.0375 - accuracy: 0.9889\n",
            "Epoch 70/100\n",
            "6/6 [==============================] - 4s 677ms/step - loss: 0.0708 - accuracy: 0.9778\n",
            "Epoch 71/100\n",
            "6/6 [==============================] - 4s 647ms/step - loss: 0.0342 - accuracy: 0.9889\n",
            "Epoch 72/100\n",
            "6/6 [==============================] - 4s 737ms/step - loss: 0.0137 - accuracy: 1.0000\n",
            "Epoch 73/100\n",
            "6/6 [==============================] - 4s 697ms/step - loss: 0.0785 - accuracy: 0.9722\n",
            "Epoch 74/100\n",
            "6/6 [==============================] - 4s 696ms/step - loss: 0.0684 - accuracy: 0.9833\n",
            "Epoch 75/100\n",
            "6/6 [==============================] - 4s 625ms/step - loss: 0.0305 - accuracy: 0.9778\n",
            "Epoch 76/100\n",
            "6/6 [==============================] - 4s 705ms/step - loss: 0.0371 - accuracy: 0.9778\n",
            "Epoch 77/100\n",
            "6/6 [==============================] - 4s 692ms/step - loss: 0.0285 - accuracy: 0.9889\n",
            "Epoch 78/100\n",
            "6/6 [==============================] - 4s 690ms/step - loss: 0.0347 - accuracy: 0.9944\n",
            "Epoch 79/100\n",
            "6/6 [==============================] - 4s 640ms/step - loss: 0.0129 - accuracy: 1.0000\n",
            "Epoch 80/100\n",
            "6/6 [==============================] - 4s 696ms/step - loss: 0.0084 - accuracy: 1.0000\n",
            "Epoch 81/100\n",
            "6/6 [==============================] - 4s 705ms/step - loss: 0.0108 - accuracy: 1.0000\n",
            "Epoch 82/100\n",
            "6/6 [==============================] - 4s 703ms/step - loss: 0.0172 - accuracy: 0.9833\n",
            "Epoch 83/100\n",
            "6/6 [==============================] - 4s 676ms/step - loss: 0.0141 - accuracy: 0.9944\n",
            "Epoch 84/100\n",
            "6/6 [==============================] - 4s 682ms/step - loss: 0.0328 - accuracy: 0.9889\n",
            "Epoch 85/100\n",
            "6/6 [==============================] - 4s 597ms/step - loss: 0.0117 - accuracy: 1.0000\n",
            "Epoch 86/100\n",
            "6/6 [==============================] - 4s 693ms/step - loss: 0.0098 - accuracy: 1.0000\n",
            "Epoch 87/100\n",
            "6/6 [==============================] - 4s 600ms/step - loss: 0.0790 - accuracy: 0.9833\n",
            "Epoch 88/100\n",
            "6/6 [==============================] - 4s 684ms/step - loss: 0.1043 - accuracy: 0.9667\n",
            "Epoch 89/100\n",
            "6/6 [==============================] - 4s 689ms/step - loss: 0.0841 - accuracy: 0.9667\n",
            "Epoch 90/100\n",
            "6/6 [==============================] - 4s 685ms/step - loss: 0.0754 - accuracy: 0.9778\n",
            "Epoch 91/100\n",
            "6/6 [==============================] - 4s 678ms/step - loss: 0.0391 - accuracy: 0.9889\n",
            "Epoch 92/100\n",
            "6/6 [==============================] - 4s 700ms/step - loss: 0.0536 - accuracy: 0.9944\n",
            "Epoch 93/100\n",
            "6/6 [==============================] - 4s 665ms/step - loss: 0.0345 - accuracy: 0.9833\n",
            "Epoch 94/100\n",
            "6/6 [==============================] - 4s 758ms/step - loss: 0.0258 - accuracy: 0.9833\n",
            "Epoch 95/100\n",
            "6/6 [==============================] - 4s 693ms/step - loss: 0.0148 - accuracy: 0.9944\n",
            "Epoch 96/100\n",
            "6/6 [==============================] - 4s 720ms/step - loss: 0.0177 - accuracy: 0.9944\n",
            "Epoch 97/100\n",
            "6/6 [==============================] - 4s 734ms/step - loss: 0.0566 - accuracy: 0.9944\n",
            "Epoch 98/100\n",
            "6/6 [==============================] - 4s 686ms/step - loss: 0.0159 - accuracy: 0.9944\n",
            "Epoch 99/100\n",
            "6/6 [==============================] - 4s 636ms/step - loss: 0.0092 - accuracy: 1.0000\n",
            "Epoch 100/100\n",
            "6/6 [==============================] - 4s 681ms/step - loss: 0.0038 - accuracy: 1.0000\n"
          ]
        },
        {
          "output_type": "execute_result",
          "data": {
            "text/plain": [
              "<keras.callbacks.History at 0x7fb8f7f10bd0>"
            ]
          },
          "metadata": {},
          "execution_count": 6
        }
      ]
    },
    {
      "cell_type": "code",
      "source": [
        "model.save('khuonmat.h5')"
      ],
      "metadata": {
        "id": "aKwh5Aq3qYBe"
      },
      "execution_count": 7,
      "outputs": []
    },
    {
      "cell_type": "code",
      "source": [
        "model_khuonmat = load_model('khuonmat.h5')"
      ],
      "metadata": {
        "id": "z02BnskoqboE"
      },
      "execution_count": 8,
      "outputs": []
    },
    {
      "cell_type": "code",
      "source": [
        "Score=model.evaluate(training_set,verbose=0)\n",
        "print('Train Loss', Score[0])\n",
        "print('Train Accuracy', Score[1])"
      ],
      "metadata": {
        "colab": {
          "base_uri": "https://localhost:8080/"
        },
        "id": "D-lbILRQqgY0",
        "outputId": "a9348239-c936-4cef-9a44-068d0abe7be7"
      },
      "execution_count": 9,
      "outputs": [
        {
          "output_type": "stream",
          "name": "stdout",
          "text": [
            "Train Loss 0.003751629963517189\n",
            "Train Accuracy 1.0\n"
          ]
        }
      ]
    },
    {
      "cell_type": "code",
      "source": [
        "img = load_img('/content/laitriminh.jpg',target_size = (150,150))\n",
        "plt.imshow(img)\n",
        "img=img_to_array(img)\n",
        "img=img.astype('float32')\n",
        "img=img/255\n",
        "img=np.expand_dims(img,axis=0)\n",
        "result=model_khuonmat.predict(img)\n",
        "class_khuonmat=['Dương Duy Thoại',\n",
        " 'Hùng Minh Trần Định',\n",
        " 'Lại Trí Minh']\n",
        "a= int(np.argmax(model.predict(img),axis=1))\n",
        "print(\"Đây là :\", class_khuonmat[a])"
      ],
      "metadata": {
        "colab": {
          "base_uri": "https://localhost:8080/",
          "height": 321
        },
        "id": "u2kOWhVBqjUk",
        "outputId": "18bff89e-67ad-4b25-da02-9174858378fc"
      },
      "execution_count": 13,
      "outputs": [
        {
          "output_type": "stream",
          "name": "stdout",
          "text": [
            "1/1 [==============================] - 0s 60ms/step\n",
            "1/1 [==============================] - 0s 57ms/step\n",
            "Đây là : Lại Trí Minh\n"
          ]
        },
        {
          "output_type": "display_data",
          "data": {
            "text/plain": [
              "<Figure size 432x288 with 1 Axes>"
            ],
            "image/png": "[encoded data removed]"
          },
          "metadata": {
            "needs_background": "light"
          }
        }
      ]
    }
  ]
}